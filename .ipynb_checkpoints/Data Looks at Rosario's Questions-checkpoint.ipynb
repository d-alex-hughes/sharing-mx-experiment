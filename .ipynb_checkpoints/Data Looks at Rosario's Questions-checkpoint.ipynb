{
 "cells": [
  {
   "cell_type": "code",
   "execution_count": 1,
   "metadata": {
    "collapsed": false
   },
   "outputs": [
    {
     "name": "stderr",
     "output_type": "stream",
     "text": [
      "\n",
      "Please cite as: \n",
      "\n",
      " Hlavac, Marek (2015). stargazer: Well-Formatted Regression and Summary Statistics Tables.\n",
      " R package version 5.2. http://CRAN.R-project.org/package=stargazer \n",
      "\n"
     ]
    },
    {
     "data": {
      "text/html": [
       "'/Users/douglashughes/Dropbox/1-Projects/Alex-Micah/San Diego Experiment/Current Version'"
      ],
      "text/latex": [
       "'/Users/douglashughes/Dropbox/1-Projects/Alex-Micah/San Diego Experiment/Current Version'"
      ],
      "text/markdown": [
       "'/Users/douglashughes/Dropbox/1-Projects/Alex-Micah/San Diego Experiment/Current Version'"
      ],
      "text/plain": [
       "[1] \"/Users/douglashughes/Dropbox/1-Projects/Alex-Micah/San Diego Experiment/Current Version\""
      ]
     },
     "metadata": {},
     "output_type": "display_data"
    }
   ],
   "source": [
    "#----------------------------\n",
    "# AUTHORS:  D. Alex Hughes, Micah GR\n",
    "# PURPOSE:  Analysis of voting experiment with 1st generation immigrants\n",
    "# DATA IN:  'analysisData.Rdata'\n",
    "# DATA OUT: \n",
    "# DATE BEGAN: Rocktober 2014\n",
    "#----------------------------\n",
    "\n",
    "rm(list = ls())\n",
    "\n",
    "##\n",
    "## Load Packages\n",
    "##\n",
    "\n",
    "library(stargazer)\n",
    "library(data.table) # 1.10.0\n",
    "library(ggplot2)\n",
    "library(magrittr)\n",
    "\n",
    "sem <- function(x) {\n",
    "    X <- na.omit(x)\n",
    "    sqrt(var(X)/length(X))\n",
    "}\n",
    "\n",
    "##\n",
    "## check wd:\n",
    "##\n",
    "\n",
    "setwd(\"~/Dropbox/1-Projects/Alex-Micah/San Diego Experiment/Current Version/\")\n",
    "getwd()\n",
    "\n",
    "\n",
    "##\n",
    "## Load Data\n",
    "##\n",
    "load('./data/analysisData.Rdata')"
   ]
  },
  {
   "cell_type": "markdown",
   "metadata": {},
   "source": [
    "# Rosrio's Questions \n",
    "Rosario had some thoughts about how to look through the data, and ways to check for whether the data supports these theories. Here, I'm summarizing, as best as I can, these thoughts into two statements: \n",
    "\n",
    "1. Is there a conditional effect on *estimate of candidate ideology* that is conditional on time? \n",
    "2. Is there a conditional effect on *candidate ideology* that is different for people who voted for the missing candidate and those who did not. \n",
    "\n",
    "Are these close to what you had anticipated, Rosario? "
   ]
  },
  {
   "cell_type": "markdown",
   "metadata": {},
   "source": [
    "To estimate these, we need to: \n",
    "\n",
    "- Create data that calculates the difference between the self-assessed ideology and the candidate assessed ideology \n",
    "- But, this is going to not include ideology estimates that are greater than 7. Estimates reported as 8 are \"I don't think in these terms\", and 998 and 999 were \"I don't want to answer this question\" and \"NA\". "
   ]
  },
  {
   "cell_type": "code",
   "execution_count": 2,
   "metadata": {
    "collapsed": false
   },
   "outputs": [],
   "source": [
    " DT <- DT[ideology < 8 & gonzideol < 8, ideol_diff := ideology - gonzideol]"
   ]
  },
  {
   "cell_type": "markdown",
   "metadata": {},
   "source": [
    "## Conditional Effect on Estimate of Candidate Ideology, based on Time in US \n",
    "Are individuals who have lived in the United States for longer periods of time *differentially* responding to the treatment that we are showing them? That is, when we show a mestizo candidate to someone who has lived in the United State for 0 years, are they assessing the ideology of this candidate differnetly than if we had shown a mestizo candidate to someone who has lived in the United States for 20 years. \n",
    "\n",
    "We build these models in a few steps: \n",
    "\n",
    "- We estimate null models that include only the treatment, then only the years in US, then both, then the interaction.\n",
    "- In all models, we can or cannot include the stanrdad set of covaraites that we are including in these models; the results don't change. "
   ]
  },
  {
   "cell_type": "code",
   "execution_count": 3,
   "metadata": {
    "collapsed": false
   },
   "outputs": [],
   "source": [
    "model_1 <- DT[gonzideol < 8, lm(gonzideol ~ factor(conditions) + age + sex + educ )]\n",
    "model_2 <- DT[gonzideol < 8, lm(gonzideol ~ yearsinus + age + sex + educ)]\n",
    "model_3 <- DT[gonzideol < 8 , lm(gonzideol ~ yearsinus + factor(conditions) + age + sex + educ )]\n",
    "model_4 <- DT[gonzideol < 8 , lm(gonzideol ~ yearsinus * factor(conditions) + age + sex + educ )]"
   ]
  },
  {
   "cell_type": "code",
   "execution_count": 4,
   "metadata": {
    "collapsed": false
   },
   "outputs": [
    {
     "name": "stdout",
     "output_type": "stream",
     "text": [
      "\n",
      "======================================================================================================================\n",
      "                                                                   Dependent variable:                                \n",
      "                                    ----------------------------------------------------------------------------------\n",
      "                                                                        gonzideol                                     \n",
      "                                            (1)                  (2)                 (3)                  (4)         \n",
      "----------------------------------------------------------------------------------------------------------------------\n",
      "White Candidate                           0.984**                                  0.942**               1.057        \n",
      "                                          (0.416)                                  (0.414)              (1.002)       \n",
      "                                                                                                                      \n",
      "Mestizo Candidate                         1.169***                                 1.313***              0.757        \n",
      "                                          (0.430)                                  (0.432)              (0.938)       \n",
      "                                                                                                                      \n",
      "Indegeneous Candidate                      0.441                                    0.424                0.238        \n",
      "                                          (0.393)                                  (0.389)              (0.852)       \n",
      "                                                                                                                      \n",
      "Years in US                                                     0.022               0.023                0.016        \n",
      "                                                               (0.017)             (0.018)              (0.028)       \n",
      "                                                                                                                      \n",
      "Age                                        -0.010              -0.023              -0.024*               -0.024       \n",
      "                                          (0.010)              (0.014)             (0.014)              (0.014)       \n",
      "                                                                                                                      \n",
      "Sex                                        -0.039              -0.041               -0.024               -0.042       \n",
      "                                          (0.306)              (0.303)             (0.304)              (0.315)       \n",
      "                                                                                                                      \n",
      "Education                                  -0.006               0.013               -0.017               -0.018       \n",
      "                                          (0.039)              (0.038)             (0.039)              (0.039)       \n",
      "                                                                                                                      \n",
      "Years in US * White Candidate                                                                            -0.004       \n",
      "                                                                                                        (0.038)       \n",
      "                                                                                                                      \n",
      "Years in US * Mestizo Candidate                                                                          0.027        \n",
      "                                                                                                        (0.039)       \n",
      "                                                                                                                      \n",
      "Years in US * Indegeneous Candidate                                                                      0.008        \n",
      "                                                                                                        (0.033)       \n",
      "                                                                                                                      \n",
      "Constant                                  3.778***            4.312***             3.882***             4.064***      \n",
      "                                          (0.850)              (0.797)             (0.845)              (0.977)       \n",
      "                                                                                                                      \n",
      "----------------------------------------------------------------------------------------------------------------------\n",
      "Observations                                129                  130                 128                  128         \n",
      "R2                                         0.084                0.026               0.106                0.111        \n",
      "Adjusted R2                                0.039               -0.005               0.054                0.036        \n",
      "Residual Std. Error                   1.628 (df = 122)    1.656 (df = 125)     1.613 (df = 120)     1.629 (df = 117)  \n",
      "F Statistic                         1.871* (df = 6; 122) 0.844 (df = 4; 125) 2.042* (df = 7; 120) 1.468 (df = 10; 117)\n",
      "======================================================================================================================\n",
      "Note:                                                                                      *p<0.1; **p<0.05; ***p<0.01\n"
     ]
    }
   ],
   "source": [
    "stargazer(model_1, model_2, model_3, model_4, type = \"text\",  \n",
    "         covariate.labels = c(\"White Candidate\", \"Mestizo Candidate\", \"Indegeneous Candidate\", \n",
    "                              \"Years in US\", \"Age\", \"Sex\", \"Education\", \n",
    "                              \"Years in US * White Candidate\", \"Years in US * Mestizo Candidate\", \n",
    "                              \"Years in US * Indegeneous Candidate\")\n",
    "         )"
   ]
  },
  {
   "cell_type": "markdown",
   "metadata": {},
   "source": [
    "## Conditional Effect on Estimate of Ideological Proximity \n",
    "Is one's assessment of the ideological proximity *different* for experimental candidates that received a vote than for experimental candidates that did not receive a vote? This is an interesting thought, but Alex is having a hard time making sure that this is a *causal* statement, or if it isn't, then what it is that we *are* able to say. \n",
    "\n",
    "As well, is there a clear expectation for the direction of the change in candidate- and self-ascribed ideology? I think that this could potentially go both ways, depending on whether an individual thinks of him-self or her-self as being right-of-center or left-of-center. There is probably a way to construct this data, but as a first cut, we can think about looking at whether the variance of the ideology difference is the same in the group of people that voted for the experimental candidate vs. those who voted for the non-experimental candidate. d"
   ]
  },
  {
   "cell_type": "code",
   "execution_count": 5,
   "metadata": {
    "collapsed": false
   },
   "outputs": [
    {
     "data": {
      "text/html": [
       "<strong>pdf:</strong> 2"
      ],
      "text/latex": [
       "\\textbf{pdf:} 2"
      ],
      "text/markdown": [
       "**pdf:** 2"
      ],
      "text/plain": [
       "pdf \n",
       "  2 "
      ]
     },
     "metadata": {},
     "output_type": "display_data"
    }
   ],
   "source": [
    "png(\"~/Dropbox/1-Projects/Alex-Micah/San Diego Experiment/Current Version/tables-figures/ideologyDifferenceVoted.png\")\n",
    "source(\"http://ischool.berkeley.edu/~d.alex.hughes/code/pubPlot.R\")\n",
    "par(mfrow = c(2,1))\n",
    "h <- capture.output(\n",
    "    DT[ideology < 8 & gonzideol < 8 & votecanmiss == 1, \n",
    "   hist(ideol_diff, xlim = c(-5, 5), breaks = -5:5, \n",
    "        col = \"black\", main = \"Voted for Candidate\")]\n",
    "    )\n",
    "h <- capture.output(\n",
    "    DT[ideology < 8 & gonzideol < 8 & votecanmiss == 0, \n",
    "   hist(ideol_diff, xlim = c(-5, 5), breaks = -5:5, \n",
    "        col = \"black\", main = \"Voted for Candidate\")]\n",
    "    )\n",
    "dev.off()"
   ]
  },
  {
   "cell_type": "markdown",
   "metadata": {},
   "source": [
    "<img src = \"./tables-figures/ideologyDifferenceVoted.pdf\">"
   ]
  },
  {
   "cell_type": "markdown",
   "metadata": {},
   "source": [
    "We can pretty clearly look at this at see that there isn't a mean shift, but that there is a noticable variance shift. People who did not vote for the experimental candidate may have thought that the experimental candidate was quite different from them, ideologically. \n",
    "\n",
    "A quick test for this is to look into a `t.test` for difference in location, and an `f.test` for difference in dispersion. "
   ]
  },
  {
   "cell_type": "code",
   "execution_count": 6,
   "metadata": {
    "collapsed": false
   },
   "outputs": [
    {
     "data": {
      "text/plain": [
       "\n",
       "\tWelch Two Sample t-test\n",
       "\n",
       "data:  ideol_diff by votecanmiss\n",
       "t = -0.614, df = 109, p-value = 0.54\n",
       "alternative hypothesis: true difference in means is not equal to 0\n",
       "95 percent confidence interval:\n",
       " -0.86779  0.45753\n",
       "sample estimates:\n",
       "mean in group 0 mean in group 1 \n",
       "        0.00000         0.20513 \n"
      ]
     },
     "metadata": {},
     "output_type": "display_data"
    },
    {
     "data": {
      "text/plain": [
       "\n",
       "\tF test to compare two variances\n",
       "\n",
       "data:  ideol_diff by votecanmiss\n",
       "F = 4.54, num df = 72, denom df = 38, p-value = 2.1e-06\n",
       "alternative hypothesis: true ratio of variances is not equal to 1\n",
       "95 percent confidence interval:\n",
       " 2.5235 7.7751\n",
       "sample estimates:\n",
       "ratio of variances \n",
       "            4.5401 \n"
      ]
     },
     "metadata": {},
     "output_type": "display_data"
    }
   ],
   "source": [
    "DT[ideology < 8 & gonzideol < 8, t.test(ideol_diff ~ votecanmiss)]\n",
    "DT[ideology < 8 & gonzideol < 8, var.test(ideol_diff ~ votecanmiss)]"
   ]
  },
  {
   "cell_type": "code",
   "execution_count": null,
   "metadata": {
    "collapsed": true
   },
   "outputs": [],
   "source": []
  }
 ],
 "metadata": {
  "kernelspec": {
   "display_name": "R",
   "language": "R",
   "name": "ir"
  },
  "language_info": {
   "codemirror_mode": "r",
   "file_extension": ".r",
   "mimetype": "text/x-r-source",
   "name": "R",
   "pygments_lexer": "r",
   "version": "3.3.2"
  }
 },
 "nbformat": 4,
 "nbformat_minor": 2
}
